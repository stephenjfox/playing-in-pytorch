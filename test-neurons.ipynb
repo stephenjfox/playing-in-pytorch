{
 "cells": [
  {
   "cell_type": "markdown",
   "metadata": {},
   "source": [
    "# Purpose\n",
    "\n",
    "Is it really possible to quickly filter the neurons of a deep neural network?"
   ]
  },
  {
   "cell_type": "code",
   "execution_count": 1,
   "metadata": {},
   "outputs": [],
   "source": [
    "import torch"
   ]
  },
  {
   "cell_type": "code",
   "execution_count": 7,
   "metadata": {},
   "outputs": [
    {
     "data": {
      "text/plain": [
       "tensor([1, 0, 4, 2, 3])"
      ]
     },
     "execution_count": 7,
     "metadata": {},
     "output_type": "execute_result"
    }
   ],
   "source": [
    "# generates random ints, up to the bound, of size \"bound\"\n",
    "torch.randperm(5)"
   ]
  },
  {
   "cell_type": "code",
   "execution_count": 21,
   "metadata": {},
   "outputs": [],
   "source": [
    "def check_active(x, y):\n",
    "    '''For now: compare x and y, returning x == y, just so I know what that really does\n",
    "    \n",
    "    Args:\n",
    "        x: tensor of activations\n",
    "        y: scalar tensor (broadcasted), or tensor of x.shape, to compare against x\n",
    "    \n",
    "    Future plans:\n",
    "        1. I would like to \"filter\" the activations `x` based on some relationship with `y`\n",
    "    '''\n",
    "    return (x == y)"
   ]
  },
  {
   "cell_type": "code",
   "execution_count": 27,
   "metadata": {},
   "outputs": [
    {
     "data": {
      "text/plain": [
       "tensor([0, 1, 0, 0, 0], dtype=torch.uint8)"
      ]
     },
     "execution_count": 27,
     "metadata": {},
     "output_type": "execute_result"
    }
   ],
   "source": [
    "check_active(torch.randperm(5), torch.randperm(5))"
   ]
  },
  {
   "cell_type": "markdown",
   "metadata": {},
   "source": [
    "This is analogous to `is_alive` or some such other neuroscience-based vocabulary describing the state of neuron\n",
    "\n",
    "---"
   ]
  },
  {
   "cell_type": "code",
   "execution_count": 37,
   "metadata": {},
   "outputs": [
    {
     "name": "stdout",
     "output_type": "stream",
     "text": [
      "tensor(5., requires_grad=True) tensor(10., grad_fn=<MulBackward0>)\n",
      "t.grad None\n",
      "z.grad None\n",
      "None\n",
      "t.grad tensor(2.)\n",
      "z.grad None\n"
     ]
    }
   ],
   "source": [
    "def make_tensor_with_gradients():\n",
    "    t = torch.tensor(5., requires_grad=True)\n",
    "    \n",
    "    z = t * 2\n",
    "    print(t, z)\n",
    "    \n",
    "    print('t.grad', t.grad)\n",
    "    print('z.grad', z.grad)\n",
    "    \n",
    "    print(z.backward())\n",
    "    print('t.grad', t.grad)\n",
    "    print('z.grad', z.grad)\n",
    "    \n",
    "\n",
    "make_tensor_with_gradients()"
   ]
  },
  {
   "cell_type": "code",
   "execution_count": 41,
   "metadata": {},
   "outputs": [],
   "source": [
    "?torch.cat"
   ]
  },
  {
   "cell_type": "code",
   "execution_count": 60,
   "metadata": {},
   "outputs": [
    {
     "data": {
      "text/plain": [
       "tensor([ 0.0000e+00,  3.6893e+19, -1.1811e-36,  0.0000e+00,  3.6893e+19,\n",
       "        -1.1810e-36])"
      ]
     },
     "execution_count": 60,
     "metadata": {},
     "output_type": "execute_result"
    }
   ],
   "source": [
    "torch.cat((torch.empty(3), torch.empty(3)))"
   ]
  },
  {
   "cell_type": "code",
   "execution_count": 86,
   "metadata": {},
   "outputs": [
    {
     "name": "stdout",
     "output_type": "stream",
     "text": [
      "Widening layer of size 5\n",
      "\tnew size = 7\n",
      "\tchange in size= 1\n",
      "\tempty tensors will have size 1\n"
     ]
    },
    {
     "data": {
      "text/plain": [
       "tensor([ 0.2043,  0.2724,  0.1472,  0.4794, -0.3290, -0.3808, -0.2636])"
      ]
     },
     "execution_count": 86,
     "metadata": {},
     "output_type": "execute_result"
    }
   ],
   "source": [
    "def widen(layer, factor=1.3):\n",
    "    print('Widening layer of size', len(layer))\n",
    "    print('\\tnew size =', round(len(layer) * factor + .5))\n",
    "    \n",
    "    new_size = round(len(layer) * factor)\n",
    "    size_diff = new_size - len(layer)\n",
    "    \n",
    "    print('\\tchange in size=', size_diff)\n",
    "    if size_diff % 2 == 1: size_diff = size_diff + 1 # evens are easier\n",
    "\n",
    "    concat_half_size = size_diff // 2\n",
    "    print('\\tempty tensors will have size', concat_half_size)\n",
    "\n",
    "    # pull from the normal distribution, try to blend in with your new layers\n",
    "    _layer_std = torch.std(layer).unsqueeze(-1)\n",
    "    \n",
    "    # then we return the concatenation\n",
    "    return torch.cat(\n",
    "              [torch.normal(_layer_std),\n",
    "              layer,\n",
    "              torch.normal(_layer_std)], dim=-1)\n",
    "\n",
    "widen(torch.randn(5))"
   ]
  },
  {
   "cell_type": "code",
   "execution_count": null,
   "metadata": {},
   "outputs": [],
   "source": []
  }
 ],
 "metadata": {
  "kernelspec": {
   "display_name": "Python 3",
   "language": "python",
   "name": "python3"
  },
  "language_info": {
   "codemirror_mode": {
    "name": "ipython",
    "version": 3
   },
   "file_extension": ".py",
   "mimetype": "text/x-python",
   "name": "python",
   "nbconvert_exporter": "python",
   "pygments_lexer": "ipython3",
   "version": "3.7.2"
  },
  "toc": {
   "base_numbering": 1,
   "nav_menu": {},
   "number_sections": true,
   "sideBar": true,
   "skip_h1_title": false,
   "title_cell": "Table of Contents",
   "title_sidebar": "Contents",
   "toc_cell": false,
   "toc_position": {},
   "toc_section_display": true,
   "toc_window_display": false
  }
 },
 "nbformat": 4,
 "nbformat_minor": 2
}
